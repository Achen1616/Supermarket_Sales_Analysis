{
 "cells": [
  {
   "cell_type": "code",
   "execution_count": 13,
   "metadata": {},
   "outputs": [],
   "source": [
    "import csv\n",
    "import os\n",
    "\n",
    "def convert_to_csv(input_file, delimiter='\\t', headers=None):\n",
    "    try:\n",
    "        output_file = f\"{input_file}.csv\"\n",
    "        \n",
    "        with open(input_file, 'r') as infile, open(output_file, 'w', newline='') as outfile:\n",
    "            writer = csv.writer(outfile)\n",
    "            \n",
    "            # Write headers if provided\n",
    "            if headers:\n",
    "                writer.writerow(headers)\n",
    "            \n",
    "            # Write the data\n",
    "            row_count = 0\n",
    "            for line in infile:\n",
    "                # Split the line on comma and clean up\n",
    "                parts = line.strip().split(',')\n",
    "                # Remove any quotes\n",
    "                parts = [p.strip('\"') for p in parts]\n",
    "                writer.writerow(parts)\n",
    "                row_count += 1\n",
    "        \n",
    "        print(f\"Success! Converted {row_count} rows.\")\n",
    "        print(f\"Original file: {input_file}\")\n",
    "        print(f\"New CSV file: {output_file}\")\n",
    "        return output_file\n",
    "        \n",
    "    except FileNotFoundError:\n",
    "        print(f\"Error: Could not find input file '{input_file}'\")\n",
    "    except PermissionError:\n",
    "        print(f\"Error: Permission denied when accessing '{input_file}'\")\n",
    "    except Exception as e:\n",
    "        print(f\"Error during conversion: {str(e)}\")"
   ]
  },
  {
   "cell_type": "markdown",
   "metadata": {},
   "source": [
    "## AvgGrossIncomeByCity Conversion"
   ]
  },
  {
   "cell_type": "code",
   "execution_count": 23,
   "metadata": {},
   "outputs": [
    {
     "name": "stdout",
     "output_type": "stream",
     "text": [
      "Success! Converted 3 rows.\n",
      "Original file: Output/Pig/AvgGrossIncomeByCity/part-r-00000\n",
      "New CSV file: Output/Pig/AvgGrossIncomeByCity/part-r-00000.csv\n"
     ]
    },
    {
     "data": {
      "text/plain": [
       "'Output/Pig/AvgGrossIncomeByCity/part-r-00000.csv'"
      ]
     },
     "execution_count": 23,
     "metadata": {},
     "output_type": "execute_result"
    }
   ],
   "source": [
    "pig_file = 'Output/Pig/AvgGrossIncomeByCity/part-r-00000'\n",
    "headers = [\"City\", \"Avg_Gross_Income\"]\n",
    "convert_to_csv(pig_file, headers=headers)"
   ]
  },
  {
   "cell_type": "code",
   "execution_count": 24,
   "metadata": {},
   "outputs": [
    {
     "name": "stdout",
     "output_type": "stream",
     "text": [
      "Success! Converted 3 rows.\n",
      "Original file: Output/Hive/Simple_Queries/AvgGrossIncomeByCity/000000_0\n",
      "New CSV file: Output/Hive/Simple_Queries/AvgGrossIncomeByCity/000000_0.csv\n"
     ]
    },
    {
     "data": {
      "text/plain": [
       "'Output/Hive/Simple_Queries/AvgGrossIncomeByCity/000000_0.csv'"
      ]
     },
     "execution_count": 24,
     "metadata": {},
     "output_type": "execute_result"
    }
   ],
   "source": [
    "hive_file = 'Output/Hive/Simple_Queries/AvgGrossIncomeByCity/000000_0'\n",
    "headers = [\"City\", \"Avg_Gross_Income\"]\n",
    "convert_to_csv(hive_file, headers=headers)"
   ]
  },
  {
   "cell_type": "markdown",
   "metadata": {},
   "source": [
    "## TotalRevenue Conversion"
   ]
  },
  {
   "cell_type": "code",
   "execution_count": 27,
   "metadata": {},
   "outputs": [
    {
     "name": "stdout",
     "output_type": "stream",
     "text": [
      "Success! Converted 3 rows.\n",
      "Original file: Output/Pig/TotalRevenue/part-r-00000\n",
      "New CSV file: Output/Pig/TotalRevenue/part-r-00000.csv\n"
     ]
    },
    {
     "data": {
      "text/plain": [
       "'Output/Pig/TotalRevenue/part-r-00000.csv'"
      ]
     },
     "execution_count": 27,
     "metadata": {},
     "output_type": "execute_result"
    }
   ],
   "source": [
    "pig_file = 'Output/Pig/TotalRevenue/part-r-00000'\n",
    "headers = [\"Payment\", \"Total_Revenue\"]\n",
    "convert_to_csv(pig_file, headers=headers)"
   ]
  },
  {
   "cell_type": "code",
   "execution_count": 28,
   "metadata": {},
   "outputs": [
    {
     "name": "stdout",
     "output_type": "stream",
     "text": [
      "Success! Converted 3 rows.\n",
      "Original file: Output/Hive/Simple_Queries/TotalRevenue/000000_0\n",
      "New CSV file: Output/Hive/Simple_Queries/TotalRevenue/000000_0.csv\n"
     ]
    },
    {
     "data": {
      "text/plain": [
       "'Output/Hive/Simple_Queries/TotalRevenue/000000_0.csv'"
      ]
     },
     "execution_count": 28,
     "metadata": {},
     "output_type": "execute_result"
    }
   ],
   "source": [
    "hive_file = 'Output/Hive/Simple_Queries/TotalRevenue/000000_0'\n",
    "headers = [\"Payment\", \"Total_Revenue\"]\n",
    "convert_to_csv(hive_file, headers=headers)"
   ]
  },
  {
   "cell_type": "markdown",
   "metadata": {},
   "source": [
    "## MonthlyProductRev Conversion"
   ]
  },
  {
   "cell_type": "code",
   "execution_count": 22,
   "metadata": {},
   "outputs": [
    {
     "name": "stdout",
     "output_type": "stream",
     "text": [
      "Success! Converted 18 rows.\n",
      "Original file: Output/Hive/Complex_Queries/MonthlyProductRev/000000_0\n",
      "New CSV file: Output/Hive/Complex_Queries/MonthlyProductRev/000000_0.csv\n"
     ]
    },
    {
     "data": {
      "text/plain": [
       "'Output/Hive/Complex_Queries/MonthlyProductRev/000000_0.csv'"
      ]
     },
     "execution_count": 22,
     "metadata": {},
     "output_type": "execute_result"
    }
   ],
   "source": [
    "hive_file = 'Output/Hive/Complex_Queries/MonthlyProductRev/000000_0'\n",
    "headers = [\"month\", \"product_line\", \"monthly_revenue\", \"avg_rating\"]\n",
    "convert_to_csv(hive_file, headers=headers)"
   ]
  },
  {
   "cell_type": "markdown",
   "metadata": {},
   "source": [
    "## SampledCustomerPayment Conversion"
   ]
  },
  {
   "cell_type": "code",
   "execution_count": 19,
   "metadata": {},
   "outputs": [
    {
     "name": "stdout",
     "output_type": "stream",
     "text": [
      "Success! Converted 36 rows.\n",
      "Original file: Output/Hive/Complex_Queries/SampledCustomerPaymentAnalysis/000000_0\n",
      "New CSV file: Output/Hive/Complex_Queries/SampledCustomerPaymentAnalysis/000000_0.csv\n"
     ]
    },
    {
     "data": {
      "text/plain": [
       "'Output/Hive/Complex_Queries/SampledCustomerPaymentAnalysis/000000_0.csv'"
      ]
     },
     "execution_count": 19,
     "metadata": {},
     "output_type": "execute_result"
    }
   ],
   "source": [
    "hive_file = 'Output/Hive/Complex_Queries/SampledCustomerPaymentAnalysis/000000_0'\n",
    "headers = ['product_line', 'customer_type', 'payment', 'payment_revenue', 'revenue_contribution_percentage', 'avg_rating']\n",
    "convert_to_csv(hive_file, headers=headers)"
   ]
  },
  {
   "cell_type": "markdown",
   "metadata": {},
   "source": [
    "## TopCityProductionSales Conversion"
   ]
  },
  {
   "cell_type": "code",
   "execution_count": 20,
   "metadata": {},
   "outputs": [
    {
     "name": "stdout",
     "output_type": "stream",
     "text": [
      "Success! Converted 36 rows.\n",
      "Original file: Output/Hive/Complex_Queries/TopCityProductSales/000000_0\n",
      "New CSV file: Output/Hive/Complex_Queries/TopCityProductSales/000000_0.csv\n"
     ]
    },
    {
     "data": {
      "text/plain": [
       "'Output/Hive/Complex_Queries/TopCityProductSales/000000_0.csv'"
      ]
     },
     "execution_count": 20,
     "metadata": {},
     "output_type": "execute_result"
    }
   ],
   "source": [
    "hive_file = 'Output/Hive/Complex_Queries/TopCityProductSales/000000_0'\n",
    "headers = ['city', 'product_line', 'customer_type', 'product_line_revenue', 'revenue_percentage']\n",
    "convert_to_csv(hive_file, headers=headers)"
   ]
  }
 ],
 "metadata": {
  "kernelspec": {
   "display_name": "Python 3",
   "language": "python",
   "name": "python3"
  },
  "language_info": {
   "codemirror_mode": {
    "name": "ipython",
    "version": 3
   },
   "file_extension": ".py",
   "mimetype": "text/x-python",
   "name": "python",
   "nbconvert_exporter": "python",
   "pygments_lexer": "ipython3",
   "version": "3.9.6"
  }
 },
 "nbformat": 4,
 "nbformat_minor": 2
}
